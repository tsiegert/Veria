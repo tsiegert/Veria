{
 "cells": [
  {
   "cell_type": "markdown",
   "metadata": {},
   "source": [
    "<h1>Evaporation of water</h1>"
   ]
  },
  {
   "cell_type": "code",
   "execution_count": 19,
   "metadata": {},
   "outputs": [],
   "source": [
    "import numpy as np\n",
    "import matplotlib.pyplot as plt\n",
    "plt.style.use('thomas')\n",
    "import scipy.optimize as op\n",
    "import astropy.units as u"
   ]
  },
  {
   "cell_type": "markdown",
   "metadata": {},
   "source": [
    "<h3>Volume of belly</h3>"
   ]
  },
  {
   "cell_type": "code",
   "execution_count": 37,
   "metadata": {},
   "outputs": [
    {
     "name": "stdout",
     "output_type": "stream",
     "text": [
      "4.0 l\n"
     ]
    }
   ],
   "source": [
    "V = 4*u.l\n",
    "print(V)"
   ]
  },
  {
   "cell_type": "markdown",
   "metadata": {},
   "source": [
    "<h3>Modelled as half of rotational ellipsoid, semi-minor axis a is</h3>"
   ]
  },
  {
   "cell_type": "code",
   "execution_count": 38,
   "metadata": {},
   "outputs": [
    {
     "name": "stdout",
     "output_type": "stream",
     "text": [
      "9.847450218426967 cm\n"
     ]
    }
   ],
   "source": [
    "a = (3*V/(4*np.pi))**(1/3)\n",
    "print(a.to(u.cm))"
   ]
  },
  {
   "cell_type": "markdown",
   "metadata": {},
   "source": [
    "<h3>Semi-major axis c is</h3>"
   ]
  },
  {
   "cell_type": "code",
   "execution_count": 39,
   "metadata": {},
   "outputs": [
    {
     "name": "stdout",
     "output_type": "stream",
     "text": [
      "19.694900436853935 cm\n"
     ]
    }
   ],
   "source": [
    "c = 2*a\n",
    "print(c.to(u.cm))"
   ]
  },
  {
   "cell_type": "markdown",
   "metadata": {},
   "source": [
    "<h3>Surface of bottom ellipse</h3>"
   ]
  },
  {
   "cell_type": "code",
   "execution_count": 40,
   "metadata": {
    "scrolled": true
   },
   "outputs": [
    {
     "name": "stdout",
     "output_type": "stream",
     "text": [
      "0.06092947785379557 m2\n"
     ]
    }
   ],
   "source": [
    "A_E = np.pi*a*c\n",
    "print(A_E.to(u.m**2))"
   ]
  },
  {
   "cell_type": "markdown",
   "metadata": {},
   "source": [
    "<h3>Surface of total rotational ellipsoid</h3>"
   ]
  },
  {
   "cell_type": "code",
   "execution_count": 41,
   "metadata": {},
   "outputs": [
    {
     "name": "stdout",
     "output_type": "stream",
     "text": [
      "0.20828127544624525 m2\n"
     ]
    }
   ],
   "source": [
    "A_R = 2*np.pi*a*(a + c**2/(np.sqrt(c**2 - a**2))*np.arcsin(np.sqrt(c**2-a**2)/c).value)\n",
    "print(A_R.to(u.m**2))"
   ]
  },
  {
   "cell_type": "markdown",
   "metadata": {},
   "source": [
    "<h3>Total inner surface of belly model</h3>"
   ]
  },
  {
   "cell_type": "code",
   "execution_count": 25,
   "metadata": {},
   "outputs": [],
   "source": [
    "A_tot = A_E + 0.5*A_R"
   ]
  },
  {
   "cell_type": "code",
   "execution_count": 42,
   "metadata": {},
   "outputs": [
    {
     "name": "stdout",
     "output_type": "stream",
     "text": [
      "0.1650701155769182 m2\n"
     ]
    }
   ],
   "source": [
    "S = A_tot.to(u.m**2)\n",
    "print(S)"
   ]
  },
  {
   "cell_type": "markdown",
   "metadata": {},
   "source": [
    "<h3>Empirical constant term for evaporation coefficient</h3>"
   ]
  },
  {
   "cell_type": "code",
   "execution_count": 43,
   "metadata": {},
   "outputs": [
    {
     "name": "stdout",
     "output_type": "stream",
     "text": [
      "25.0 kg / (h m2)\n"
     ]
    }
   ],
   "source": [
    "f = 25*u.kg/u.m**2/u.h\n",
    "print(f)"
   ]
  },
  {
   "cell_type": "markdown",
   "metadata": {},
   "source": [
    "<h3> Empirical linear term for evaporation coefficient (like a density)</h3>"
   ]
  },
  {
   "cell_type": "code",
   "execution_count": 44,
   "metadata": {},
   "outputs": [
    {
     "name": "stdout",
     "output_type": "stream",
     "text": [
      "19.0 kg s / (h m3)\n"
     ]
    }
   ],
   "source": [
    "d = 19*u.kg*u.s/u.m**3/u.h\n",
    "print(d)"
   ]
  },
  {
   "cell_type": "markdown",
   "metadata": {},
   "source": [
    "<h3>Maximum humidity ratio of water in air at 40 C</h3>"
   ]
  },
  {
   "cell_type": "code",
   "execution_count": 45,
   "metadata": {},
   "outputs": [
    {
     "name": "stdout",
     "output_type": "stream",
     "text": [
      "0.04\n"
     ]
    }
   ],
   "source": [
    "x_s = 0.04*u.kg/u.kg\n",
    "print(x_s)"
   ]
  },
  {
   "cell_type": "markdown",
   "metadata": {},
   "source": [
    "<h3>Variable/scalable air streaming in and out (in units of l/min) ...</h3>"
   ]
  },
  {
   "cell_type": "code",
   "execution_count": 30,
   "metadata": {},
   "outputs": [],
   "source": [
    "L = np.linspace(0,10,1000)*u.l/u.min"
   ]
  },
  {
   "cell_type": "markdown",
   "metadata": {},
   "source": [
    "<h3>... to get a velocity to, volume rate divided by the cross section of the little tubes in and out (assumed 1 cm^2 here, probably something else</h3>"
   ]
  },
  {
   "cell_type": "code",
   "execution_count": 31,
   "metadata": {},
   "outputs": [],
   "source": [
    "A_c = 1*u.cm**2"
   ]
  },
  {
   "cell_type": "markdown",
   "metadata": {},
   "source": [
    "<h3>Air velocities inside belly</h3>"
   ]
  },
  {
   "cell_type": "code",
   "execution_count": 32,
   "metadata": {},
   "outputs": [],
   "source": [
    "v = L/A_c"
   ]
  },
  {
   "cell_type": "markdown",
   "metadata": {},
   "source": [
    "<h3>Evaporation of water in units of kg/h, given the above values<?h3>"
   ]
  },
  {
   "cell_type": "code",
   "execution_count": 33,
   "metadata": {},
   "outputs": [],
   "source": [
    "g = (f+d*v)*S*x_s"
   ]
  },
  {
   "cell_type": "markdown",
   "metadata": {},
   "source": [
    "<h3>Plot of this"
   ]
  },
  {
   "cell_type": "code",
   "execution_count": 36,
   "metadata": {},
   "outputs": [
    {
     "data": {
      "image/png": "[encoded data removed]",
      "text/plain": [
       "<Figure size 576x432 with 1 Axes>"
      ]
     },
     "metadata": {
      "needs_background": "light"
     },
     "output_type": "display_data"
    }
   ],
   "source": [
    "plt.plot(L,g)\n",
    "plt.xlabel(r'Instreaming/outgoing air L [l/min]')\n",
    "plt.ylabel(r'Evaporated water g [kg/h]')\n",
    "plt.grid()"
   ]
  },
  {
   "cell_type": "markdown",
   "metadata": {},
   "source": [
    "<h3>TS:<br>\n",
    "    1) I believe, you cannot assume (x - x_s) to be x_s only, because if there is no air streaming into the belly, there should also be no water evaporating.<br>\n",
    "    2) Likewise, the assumption of the air being completely saturated when leaving the belly is probably not correct.<br>\n",
    "    3) The empirical formula is very approximate and may not sufficiently well work for closed systems, and non-flat surfaces: if you let air stream in the belly through a small tube, the air will spread and distribute around non-linearly inside, which will have impact the effective air velocity.<br>\n",
    "    4) There is still some information missing on the experimental design which I assumed in this case, e.g. the cross section of the tubes to let air stream in, or if, when you pump air into it, the thing expands. These approximations could be taken into account...<h3>"
   ]
  },
  {
   "cell_type": "code",
   "execution_count": null,
   "metadata": {},
   "outputs": [],
   "source": []
  }
 ],
 "metadata": {
  "kernelspec": {
   "display_name": "Python 3",
   "language": "python",
   "name": "python3"
  },
  "language_info": {
   "codemirror_mode": {
    "name": "ipython",
    "version": 3
   },
   "file_extension": ".py",
   "mimetype": "text/x-python",
   "name": "python",
   "nbconvert_exporter": "python",
   "pygments_lexer": "ipython3",
   "version": "3.7.4"
  }
 },
 "nbformat": 4,
 "nbformat_minor": 2
}
