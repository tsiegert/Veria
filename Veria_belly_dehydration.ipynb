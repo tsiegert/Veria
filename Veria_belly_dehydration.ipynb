{
 "cells": [
  {
   "cell_type": "markdown",
   "metadata": {},
   "source": [
    "<h1>Evaporation of water</h1>"
   ]
  },
  {
   "cell_type": "code",
   "execution_count": 19,
   "metadata": {},
   "outputs": [],
   "source": [
    "import numpy as np\n",
    "import matplotlib.pyplot as plt\n",
    "plt.style.use('thomas')\n",
    "import scipy.optimize as op\n",
    "import astropy.units as u"
   ]
  },
  {
   "cell_type": "markdown",
   "metadata": {},
   "source": [
    "<h3>Volume of belly</h3>"
   ]
  },
  {
   "cell_type": "code",
   "execution_count": 20,
   "metadata": {},
   "outputs": [
    {
     "data": {
      "text/latex": [
       "$4 \\; \\mathrm{\\mathcal{l}}$"
      ],
      "text/plain": [
       "<Quantity 4. l>"
      ]
     },
     "execution_count": 20,
     "metadata": {},
     "output_type": "execute_result"
    }
   ],
   "source": [
    "V = 4*u.l\n",
    "V"
   ]
  },
  {
   "cell_type": "markdown",
   "metadata": {},
   "source": [
    "<h3>Modelled as half of rotational ellipsoid, semi-minor axis a is</h3>"
   ]
  },
  {
   "cell_type": "code",
   "execution_count": 21,
   "metadata": {},
   "outputs": [
    {
     "data": {
      "text/latex": [
       "$9.8474502 \\; \\mathrm{cm}$"
      ],
      "text/plain": [
       "<Quantity 9.84745022 cm>"
      ]
     },
     "execution_count": 21,
     "metadata": {},
     "output_type": "execute_result"
    }
   ],
   "source": [
    "a = (3*V/(4*np.pi))**(1/3)\n",
    "a.to(u.cm)"
   ]
  },
  {
   "cell_type": "markdown",
   "metadata": {},
   "source": [
    "<h3>Semi-major axis c is</h3>"
   ]
  },
  {
   "cell_type": "code",
   "execution_count": 22,
   "metadata": {},
   "outputs": [
    {
     "data": {
      "text/latex": [
       "$19.6949 \\; \\mathrm{cm}$"
      ],
      "text/plain": [
       "<Quantity 19.69490044 cm>"
      ]
     },
     "execution_count": 22,
     "metadata": {},
     "output_type": "execute_result"
    }
   ],
   "source": [
    "c = 2*a\n",
    "c.to(u.cm)"
   ]
  },
  {
   "cell_type": "markdown",
   "metadata": {},
   "source": [
    "<h3>Surface of bottom ellipse</h3>"
   ]
  },
  {
   "cell_type": "code",
   "execution_count": 23,
   "metadata": {
    "scrolled": true
   },
   "outputs": [
    {
     "data": {
      "text/latex": [
       "$0.060929478 \\; \\mathrm{m^{2}}$"
      ],
      "text/plain": [
       "<Quantity 0.06092948 m2>"
      ]
     },
     "execution_count": 23,
     "metadata": {},
     "output_type": "execute_result"
    }
   ],
   "source": [
    "A_E = np.pi*a*c\n",
    "A_E.to(u.m**2)"
   ]
  },
  {
   "cell_type": "markdown",
   "metadata": {},
   "source": [
    "<h3>Surface of total rotational ellipsoid</h3>"
   ]
  },
  {
   "cell_type": "code",
   "execution_count": 24,
   "metadata": {},
   "outputs": [
    {
     "data": {
      "text/latex": [
       "$0.20828128 \\; \\mathrm{m^{2}}$"
      ],
      "text/plain": [
       "<Quantity 0.20828128 m2>"
      ]
     },
     "execution_count": 24,
     "metadata": {},
     "output_type": "execute_result"
    }
   ],
   "source": [
    "A_R = 2*np.pi*a*(a + c**2/(np.sqrt(c**2 - a**2))*np.arcsin(np.sqrt(c**2-a**2)/c).value)\n",
    "A_R.to(u.m**2)"
   ]
  },
  {
   "cell_type": "markdown",
   "metadata": {},
   "source": [
    "<h3>Total inner surface of belly model</h3>"
   ]
  },
  {
   "cell_type": "code",
   "execution_count": 25,
   "metadata": {},
   "outputs": [],
   "source": [
    "A_tot = A_E + 0.5*A_R"
   ]
  },
  {
   "cell_type": "code",
   "execution_count": 26,
   "metadata": {},
   "outputs": [
    {
     "data": {
      "text/latex": [
       "$0.16507012 \\; \\mathrm{m^{2}}$"
      ],
      "text/plain": [
       "<Quantity 0.16507012 m2>"
      ]
     },
     "execution_count": 26,
     "metadata": {},
     "output_type": "execute_result"
    }
   ],
   "source": [
    "S = A_tot.to(u.m**2)\n",
    "S"
   ]
  },
  {
   "cell_type": "markdown",
   "metadata": {},
   "source": [
    "<h3>Empirical constant term for evaporation coefficient</h3>"
   ]
  },
  {
   "cell_type": "code",
   "execution_count": 27,
   "metadata": {},
   "outputs": [
    {
     "data": {
      "text/latex": [
       "$25 \\; \\mathrm{\\frac{kg}{h\\,m^{2}}}$"
      ],
      "text/plain": [
       "<Quantity 25. kg / (h m2)>"
      ]
     },
     "execution_count": 27,
     "metadata": {},
     "output_type": "execute_result"
    }
   ],
   "source": [
    "f = 25*u.kg/u.m**2/u.h\n",
    "f"
   ]
  },
  {
   "cell_type": "markdown",
   "metadata": {},
   "source": [
    "<h3> Empirical linear term for evaporation coefficient (like a density)</h3>"
   ]
  },
  {
   "cell_type": "code",
   "execution_count": 28,
   "metadata": {},
   "outputs": [
    {
     "data": {
      "text/latex": [
       "$19 \\; \\mathrm{\\frac{kg\\,s}{h\\,m^{3}}}$"
      ],
      "text/plain": [
       "<Quantity 19. kg s / (h m3)>"
      ]
     },
     "execution_count": 28,
     "metadata": {},
     "output_type": "execute_result"
    }
   ],
   "source": [
    "d = 19*u.kg*u.s/u.m**3/u.h\n",
    "d"
   ]
  },
  {
   "cell_type": "markdown",
   "metadata": {},
   "source": [
    "<h3>Maximum humidity ratio of water in air at 40 C</h3>"
   ]
  },
  {
   "cell_type": "code",
   "execution_count": 29,
   "metadata": {},
   "outputs": [
    {
     "data": {
      "text/latex": [
       "$0.04 \\; \\mathrm{}$"
      ],
      "text/plain": [
       "<Quantity 0.04>"
      ]
     },
     "execution_count": 29,
     "metadata": {},
     "output_type": "execute_result"
    }
   ],
   "source": [
    "x_s = 0.04*u.kg/u.kg\n",
    "x_s"
   ]
  },
  {
   "cell_type": "markdown",
   "metadata": {},
   "source": [
    "<h3>Variable/scalable air streaming in and out (in units of l/min) ...</h3>"
   ]
  },
  {
   "cell_type": "code",
   "execution_count": 30,
   "metadata": {},
   "outputs": [],
   "source": [
    "L = np.linspace(0,10,1000)*u.l/u.min"
   ]
  },
  {
   "cell_type": "markdown",
   "metadata": {},
   "source": [
    "<h3>... to get a velocity to, volume rate divided by the cross section of the little tubes in and out (assumed 1 cm^2 here, probably something else</h3>"
   ]
  },
  {
   "cell_type": "code",
   "execution_count": 31,
   "metadata": {},
   "outputs": [],
   "source": [
    "A_c = 1*u.cm**2"
   ]
  },
  {
   "cell_type": "markdown",
   "metadata": {},
   "source": [
    "<h3>Air velocities inside belly</h3>"
   ]
  },
  {
   "cell_type": "code",
   "execution_count": 32,
   "metadata": {},
   "outputs": [],
   "source": [
    "v = L/A_c"
   ]
  },
  {
   "cell_type": "markdown",
   "metadata": {},
   "source": [
    "<h3>Evaporation of water in units of kg/h, given the above values<?h3>"
   ]
  },
  {
   "cell_type": "code",
   "execution_count": 33,
   "metadata": {},
   "outputs": [],
   "source": [
    "g = (f+d*v)*S*x_s"
   ]
  },
  {
   "cell_type": "code",
   "execution_count": 34,
   "metadata": {},
   "outputs": [
    {
     "data": {
      "text/latex": [
       "$[0.16507012,~0.16527941,~0.16548871,~\\dots,~0.37374033,~0.37394963,~0.37415893] \\; \\mathrm{\\frac{kg}{h}}$"
      ],
      "text/plain": [
       "<Quantity [0.16507012, 0.16527941, 0.16548871, 0.16569801, 0.16590731,\n",
       "           0.16611661, 0.1663259 , 0.1665352 , 0.1667445 , 0.1669538 ,\n",
       "           0.1671631 , 0.16737239, 0.16758169, 0.16779099, 0.16800029,\n",
       "           0.16820959, 0.16841889, 0.16862818, 0.16883748, 0.16904678,\n",
       "           0.16925608, 0.16946538, 0.16967467, 0.16988397, 0.17009327,\n",
       "           0.17030257, 0.17051187, 0.17072116, 0.17093046, 0.17113976,\n",
       "           0.17134906, 0.17155836, 0.17176766, 0.17197695, 0.17218625,\n",
       "           0.17239555, 0.17260485, 0.17281415, 0.17302344, 0.17323274,\n",
       "           0.17344204, 0.17365134, 0.17386064, 0.17406993, 0.17427923,\n",
       "           0.17448853, 0.17469783, 0.17490713, 0.17511642, 0.17532572,\n",
       "           0.17553502, 0.17574432, 0.17595362, 0.17616292, 0.17637221,\n",
       "           0.17658151, 0.17679081, 0.17700011, 0.17720941, 0.1774187 ,\n",
       "           0.177628  , 0.1778373 , 0.1780466 , 0.1782559 , 0.17846519,\n",
       "           0.17867449, 0.17888379, 0.17909309, 0.17930239, 0.17951169,\n",
       "           0.17972098, 0.17993028, 0.18013958, 0.18034888, 0.18055818,\n",
       "           0.18076747, 0.18097677, 0.18118607, 0.18139537, 0.18160467,\n",
       "           0.18181396, 0.18202326, 0.18223256, 0.18244186, 0.18265116,\n",
       "           0.18286046, 0.18306975, 0.18327905, 0.18348835, 0.18369765,\n",
       "           0.18390695, 0.18411624, 0.18432554, 0.18453484, 0.18474414,\n",
       "           0.18495344, 0.18516273, 0.18537203, 0.18558133, 0.18579063,\n",
       "           0.18599993, 0.18620922, 0.18641852, 0.18662782, 0.18683712,\n",
       "           0.18704642, 0.18725572, 0.18746501, 0.18767431, 0.18788361,\n",
       "           0.18809291, 0.18830221, 0.1885115 , 0.1887208 , 0.1889301 ,\n",
       "           0.1891394 , 0.1893487 , 0.18955799, 0.18976729, 0.18997659,\n",
       "           0.19018589, 0.19039519, 0.19060449, 0.19081378, 0.19102308,\n",
       "           0.19123238, 0.19144168, 0.19165098, 0.19186027, 0.19206957,\n",
       "           0.19227887, 0.19248817, 0.19269747, 0.19290676, 0.19311606,\n",
       "           0.19332536, 0.19353466, 0.19374396, 0.19395325, 0.19416255,\n",
       "           0.19437185, 0.19458115, 0.19479045, 0.19499975, 0.19520904,\n",
       "           0.19541834, 0.19562764, 0.19583694, 0.19604624, 0.19625553,\n",
       "           0.19646483, 0.19667413, 0.19688343, 0.19709273, 0.19730202,\n",
       "           0.19751132, 0.19772062, 0.19792992, 0.19813922, 0.19834852,\n",
       "           0.19855781, 0.19876711, 0.19897641, 0.19918571, 0.19939501,\n",
       "           0.1996043 , 0.1998136 , 0.2000229 , 0.2002322 , 0.2004415 ,\n",
       "           0.20065079, 0.20086009, 0.20106939, 0.20127869, 0.20148799,\n",
       "           0.20169729, 0.20190658, 0.20211588, 0.20232518, 0.20253448,\n",
       "           0.20274378, 0.20295307, 0.20316237, 0.20337167, 0.20358097,\n",
       "           0.20379027, 0.20399956, 0.20420886, 0.20441816, 0.20462746,\n",
       "           0.20483676, 0.20504605, 0.20525535, 0.20546465, 0.20567395,\n",
       "           0.20588325, 0.20609255, 0.20630184, 0.20651114, 0.20672044,\n",
       "           0.20692974, 0.20713904, 0.20734833, 0.20755763, 0.20776693,\n",
       "           0.20797623, 0.20818553, 0.20839482, 0.20860412, 0.20881342,\n",
       "           0.20902272, 0.20923202, 0.20944132, 0.20965061, 0.20985991,\n",
       "           0.21006921, 0.21027851, 0.21048781, 0.2106971 , 0.2109064 ,\n",
       "           0.2111157 , 0.211325  , 0.2115343 , 0.21174359, 0.21195289,\n",
       "           0.21216219, 0.21237149, 0.21258079, 0.21279008, 0.21299938,\n",
       "           0.21320868, 0.21341798, 0.21362728, 0.21383658, 0.21404587,\n",
       "           0.21425517, 0.21446447, 0.21467377, 0.21488307, 0.21509236,\n",
       "           0.21530166, 0.21551096, 0.21572026, 0.21592956, 0.21613885,\n",
       "           0.21634815, 0.21655745, 0.21676675, 0.21697605, 0.21718535,\n",
       "           0.21739464, 0.21760394, 0.21781324, 0.21802254, 0.21823184,\n",
       "           0.21844113, 0.21865043, 0.21885973, 0.21906903, 0.21927833,\n",
       "           0.21948762, 0.21969692, 0.21990622, 0.22011552, 0.22032482,\n",
       "           0.22053412, 0.22074341, 0.22095271, 0.22116201, 0.22137131,\n",
       "           0.22158061, 0.2217899 , 0.2219992 , 0.2222085 , 0.2224178 ,\n",
       "           0.2226271 , 0.22283639, 0.22304569, 0.22325499, 0.22346429,\n",
       "           0.22367359, 0.22388288, 0.22409218, 0.22430148, 0.22451078,\n",
       "           0.22472008, 0.22492938, 0.22513867, 0.22534797, 0.22555727,\n",
       "           0.22576657, 0.22597587, 0.22618516, 0.22639446, 0.22660376,\n",
       "           0.22681306, 0.22702236, 0.22723165, 0.22744095, 0.22765025,\n",
       "           0.22785955, 0.22806885, 0.22827815, 0.22848744, 0.22869674,\n",
       "           0.22890604, 0.22911534, 0.22932464, 0.22953393, 0.22974323,\n",
       "           0.22995253, 0.23016183, 0.23037113, 0.23058042, 0.23078972,\n",
       "           0.23099902, 0.23120832, 0.23141762, 0.23162691, 0.23183621,\n",
       "           0.23204551, 0.23225481, 0.23246411, 0.23267341, 0.2328827 ,\n",
       "           0.233092  , 0.2333013 , 0.2335106 , 0.2337199 , 0.23392919,\n",
       "           0.23413849, 0.23434779, 0.23455709, 0.23476639, 0.23497568,\n",
       "           0.23518498, 0.23539428, 0.23560358, 0.23581288, 0.23602218,\n",
       "           0.23623147, 0.23644077, 0.23665007, 0.23685937, 0.23706867,\n",
       "           0.23727796, 0.23748726, 0.23769656, 0.23790586, 0.23811516,\n",
       "           0.23832445, 0.23853375, 0.23874305, 0.23895235, 0.23916165,\n",
       "           0.23937095, 0.23958024, 0.23978954, 0.23999884, 0.24020814,\n",
       "           0.24041744, 0.24062673, 0.24083603, 0.24104533, 0.24125463,\n",
       "           0.24146393, 0.24167322, 0.24188252, 0.24209182, 0.24230112,\n",
       "           0.24251042, 0.24271971, 0.24292901, 0.24313831, 0.24334761,\n",
       "           0.24355691, 0.24376621, 0.2439755 , 0.2441848 , 0.2443941 ,\n",
       "           0.2446034 , 0.2448127 , 0.24502199, 0.24523129, 0.24544059,\n",
       "           0.24564989, 0.24585919, 0.24606848, 0.24627778, 0.24648708,\n",
       "           0.24669638, 0.24690568, 0.24711498, 0.24732427, 0.24753357,\n",
       "           0.24774287, 0.24795217, 0.24816147, 0.24837076, 0.24858006,\n",
       "           0.24878936, 0.24899866, 0.24920796, 0.24941725, 0.24962655,\n",
       "           0.24983585, 0.25004515, 0.25025445, 0.25046374, 0.25067304,\n",
       "           0.25088234, 0.25109164, 0.25130094, 0.25151024, 0.25171953,\n",
       "           0.25192883, 0.25213813, 0.25234743, 0.25255673, 0.25276602,\n",
       "           0.25297532, 0.25318462, 0.25339392, 0.25360322, 0.25381251,\n",
       "           0.25402181, 0.25423111, 0.25444041, 0.25464971, 0.25485901,\n",
       "           0.2550683 , 0.2552776 , 0.2554869 , 0.2556962 , 0.2559055 ,\n",
       "           0.25611479, 0.25632409, 0.25653339, 0.25674269, 0.25695199,\n",
       "           0.25716128, 0.25737058, 0.25757988, 0.25778918, 0.25799848,\n",
       "           0.25820778, 0.25841707, 0.25862637, 0.25883567, 0.25904497,\n",
       "           0.25925427, 0.25946356, 0.25967286, 0.25988216, 0.26009146,\n",
       "           0.26030076, 0.26051005, 0.26071935, 0.26092865, 0.26113795,\n",
       "           0.26134725, 0.26155654, 0.26176584, 0.26197514, 0.26218444,\n",
       "           0.26239374, 0.26260304, 0.26281233, 0.26302163, 0.26323093,\n",
       "           0.26344023, 0.26364953, 0.26385882, 0.26406812, 0.26427742,\n",
       "           0.26448672, 0.26469602, 0.26490531, 0.26511461, 0.26532391,\n",
       "           0.26553321, 0.26574251, 0.26595181, 0.2661611 , 0.2663704 ,\n",
       "           0.2665797 , 0.266789  , 0.2669983 , 0.26720759, 0.26741689,\n",
       "           0.26762619, 0.26783549, 0.26804479, 0.26825408, 0.26846338,\n",
       "           0.26867268, 0.26888198, 0.26909128, 0.26930057, 0.26950987,\n",
       "           0.26971917, 0.26992847, 0.27013777, 0.27034707, 0.27055636,\n",
       "           0.27076566, 0.27097496, 0.27118426, 0.27139356, 0.27160285,\n",
       "           0.27181215, 0.27202145, 0.27223075, 0.27244005, 0.27264934,\n",
       "           0.27285864, 0.27306794, 0.27327724, 0.27348654, 0.27369584,\n",
       "           0.27390513, 0.27411443, 0.27432373, 0.27453303, 0.27474233,\n",
       "           0.27495162, 0.27516092, 0.27537022, 0.27557952, 0.27578882,\n",
       "           0.27599811, 0.27620741, 0.27641671, 0.27662601, 0.27683531,\n",
       "           0.27704461, 0.2772539 , 0.2774632 , 0.2776725 , 0.2778818 ,\n",
       "           0.2780911 , 0.27830039, 0.27850969, 0.27871899, 0.27892829,\n",
       "           0.27913759, 0.27934688, 0.27955618, 0.27976548, 0.27997478,\n",
       "           0.28018408, 0.28039337, 0.28060267, 0.28081197, 0.28102127,\n",
       "           0.28123057, 0.28143987, 0.28164916, 0.28185846, 0.28206776,\n",
       "           0.28227706, 0.28248636, 0.28269565, 0.28290495, 0.28311425,\n",
       "           0.28332355, 0.28353285, 0.28374214, 0.28395144, 0.28416074,\n",
       "           0.28437004, 0.28457934, 0.28478864, 0.28499793, 0.28520723,\n",
       "           0.28541653, 0.28562583, 0.28583513, 0.28604442, 0.28625372,\n",
       "           0.28646302, 0.28667232, 0.28688162, 0.28709091, 0.28730021,\n",
       "           0.28750951, 0.28771881, 0.28792811, 0.2881374 , 0.2883467 ,\n",
       "           0.288556  , 0.2887653 , 0.2889746 , 0.2891839 , 0.28939319,\n",
       "           0.28960249, 0.28981179, 0.29002109, 0.29023039, 0.29043968,\n",
       "           0.29064898, 0.29085828, 0.29106758, 0.29127688, 0.29148617,\n",
       "           0.29169547, 0.29190477, 0.29211407, 0.29232337, 0.29253267,\n",
       "           0.29274196, 0.29295126, 0.29316056, 0.29336986, 0.29357916,\n",
       "           0.29378845, 0.29399775, 0.29420705, 0.29441635, 0.29462565,\n",
       "           0.29483494, 0.29504424, 0.29525354, 0.29546284, 0.29567214,\n",
       "           0.29588144, 0.29609073, 0.29630003, 0.29650933, 0.29671863,\n",
       "           0.29692793, 0.29713722, 0.29734652, 0.29755582, 0.29776512,\n",
       "           0.29797442, 0.29818371, 0.29839301, 0.29860231, 0.29881161,\n",
       "           0.29902091, 0.2992302 , 0.2994395 , 0.2996488 , 0.2998581 ,\n",
       "           0.3000674 , 0.3002767 , 0.30048599, 0.30069529, 0.30090459,\n",
       "           0.30111389, 0.30132319, 0.30153248, 0.30174178, 0.30195108,\n",
       "           0.30216038, 0.30236968, 0.30257897, 0.30278827, 0.30299757,\n",
       "           0.30320687, 0.30341617, 0.30362547, 0.30383476, 0.30404406,\n",
       "           0.30425336, 0.30446266, 0.30467196, 0.30488125, 0.30509055,\n",
       "           0.30529985, 0.30550915, 0.30571845, 0.30592774, 0.30613704,\n",
       "           0.30634634, 0.30655564, 0.30676494, 0.30697423, 0.30718353,\n",
       "           0.30739283, 0.30760213, 0.30781143, 0.30802073, 0.30823002,\n",
       "           0.30843932, 0.30864862, 0.30885792, 0.30906722, 0.30927651,\n",
       "           0.30948581, 0.30969511, 0.30990441, 0.31011371, 0.310323  ,\n",
       "           0.3105323 , 0.3107416 , 0.3109509 , 0.3111602 , 0.3113695 ,\n",
       "           0.31157879, 0.31178809, 0.31199739, 0.31220669, 0.31241599,\n",
       "           0.31262528, 0.31283458, 0.31304388, 0.31325318, 0.31346248,\n",
       "           0.31367177, 0.31388107, 0.31409037, 0.31429967, 0.31450897,\n",
       "           0.31471827, 0.31492756, 0.31513686, 0.31534616, 0.31555546,\n",
       "           0.31576476, 0.31597405, 0.31618335, 0.31639265, 0.31660195,\n",
       "           0.31681125, 0.31702054, 0.31722984, 0.31743914, 0.31764844,\n",
       "           0.31785774, 0.31806703, 0.31827633, 0.31848563, 0.31869493,\n",
       "           0.31890423, 0.31911353, 0.31932282, 0.31953212, 0.31974142,\n",
       "           0.31995072, 0.32016002, 0.32036931, 0.32057861, 0.32078791,\n",
       "           0.32099721, 0.32120651, 0.3214158 , 0.3216251 , 0.3218344 ,\n",
       "           0.3220437 , 0.322253  , 0.3224623 , 0.32267159, 0.32288089,\n",
       "           0.32309019, 0.32329949, 0.32350879, 0.32371808, 0.32392738,\n",
       "           0.32413668, 0.32434598, 0.32455528, 0.32476457, 0.32497387,\n",
       "           0.32518317, 0.32539247, 0.32560177, 0.32581106, 0.32602036,\n",
       "           0.32622966, 0.32643896, 0.32664826, 0.32685756, 0.32706685,\n",
       "           0.32727615, 0.32748545, 0.32769475, 0.32790405, 0.32811334,\n",
       "           0.32832264, 0.32853194, 0.32874124, 0.32895054, 0.32915983,\n",
       "           0.32936913, 0.32957843, 0.32978773, 0.32999703, 0.33020633,\n",
       "           0.33041562, 0.33062492, 0.33083422, 0.33104352, 0.33125282,\n",
       "           0.33146211, 0.33167141, 0.33188071, 0.33209001, 0.33229931,\n",
       "           0.3325086 , 0.3327179 , 0.3329272 , 0.3331365 , 0.3333458 ,\n",
       "           0.3335551 , 0.33376439, 0.33397369, 0.33418299, 0.33439229,\n",
       "           0.33460159, 0.33481088, 0.33502018, 0.33522948, 0.33543878,\n",
       "           0.33564808, 0.33585737, 0.33606667, 0.33627597, 0.33648527,\n",
       "           0.33669457, 0.33690386, 0.33711316, 0.33732246, 0.33753176,\n",
       "           0.33774106, 0.33795036, 0.33815965, 0.33836895, 0.33857825,\n",
       "           0.33878755, 0.33899685, 0.33920614, 0.33941544, 0.33962474,\n",
       "           0.33983404, 0.34004334, 0.34025263, 0.34046193, 0.34067123,\n",
       "           0.34088053, 0.34108983, 0.34129913, 0.34150842, 0.34171772,\n",
       "           0.34192702, 0.34213632, 0.34234562, 0.34255491, 0.34276421,\n",
       "           0.34297351, 0.34318281, 0.34339211, 0.3436014 , 0.3438107 ,\n",
       "           0.34402   , 0.3442293 , 0.3444386 , 0.34464789, 0.34485719,\n",
       "           0.34506649, 0.34527579, 0.34548509, 0.34569439, 0.34590368,\n",
       "           0.34611298, 0.34632228, 0.34653158, 0.34674088, 0.34695017,\n",
       "           0.34715947, 0.34736877, 0.34757807, 0.34778737, 0.34799666,\n",
       "           0.34820596, 0.34841526, 0.34862456, 0.34883386, 0.34904316,\n",
       "           0.34925245, 0.34946175, 0.34967105, 0.34988035, 0.35008965,\n",
       "           0.35029894, 0.35050824, 0.35071754, 0.35092684, 0.35113614,\n",
       "           0.35134543, 0.35155473, 0.35176403, 0.35197333, 0.35218263,\n",
       "           0.35239193, 0.35260122, 0.35281052, 0.35301982, 0.35322912,\n",
       "           0.35343842, 0.35364771, 0.35385701, 0.35406631, 0.35427561,\n",
       "           0.35448491, 0.3546942 , 0.3549035 , 0.3551128 , 0.3553221 ,\n",
       "           0.3555314 , 0.35574069, 0.35594999, 0.35615929, 0.35636859,\n",
       "           0.35657789, 0.35678719, 0.35699648, 0.35720578, 0.35741508,\n",
       "           0.35762438, 0.35783368, 0.35804297, 0.35825227, 0.35846157,\n",
       "           0.35867087, 0.35888017, 0.35908946, 0.35929876, 0.35950806,\n",
       "           0.35971736, 0.35992666, 0.36013596, 0.36034525, 0.36055455,\n",
       "           0.36076385, 0.36097315, 0.36118245, 0.36139174, 0.36160104,\n",
       "           0.36181034, 0.36201964, 0.36222894, 0.36243823, 0.36264753,\n",
       "           0.36285683, 0.36306613, 0.36327543, 0.36348472, 0.36369402,\n",
       "           0.36390332, 0.36411262, 0.36432192, 0.36453122, 0.36474051,\n",
       "           0.36494981, 0.36515911, 0.36536841, 0.36557771, 0.365787  ,\n",
       "           0.3659963 , 0.3662056 , 0.3664149 , 0.3666242 , 0.36683349,\n",
       "           0.36704279, 0.36725209, 0.36746139, 0.36767069, 0.36787999,\n",
       "           0.36808928, 0.36829858, 0.36850788, 0.36871718, 0.36892648,\n",
       "           0.36913577, 0.36934507, 0.36955437, 0.36976367, 0.36997297,\n",
       "           0.37018226, 0.37039156, 0.37060086, 0.37081016, 0.37101946,\n",
       "           0.37122876, 0.37143805, 0.37164735, 0.37185665, 0.37206595,\n",
       "           0.37227525, 0.37248454, 0.37269384, 0.37290314, 0.37311244,\n",
       "           0.37332174, 0.37353103, 0.37374033, 0.37394963, 0.37415893] kg / h>"
      ]
     },
     "execution_count": 34,
     "metadata": {},
     "output_type": "execute_result"
    }
   ],
   "source": [
    "g"
   ]
  },
  {
   "cell_type": "markdown",
   "metadata": {},
   "source": [
    "<h3>Plot of this"
   ]
  },
  {
   "cell_type": "code",
   "execution_count": 36,
   "metadata": {},
   "outputs": [
    {
     "data": {
      "image/png": "[encoded data removed]",
      "text/plain": [
       "<Figure size 576x432 with 1 Axes>"
      ]
     },
     "metadata": {
      "needs_background": "light"
     },
     "output_type": "display_data"
    }
   ],
   "source": [
    "plt.plot(L,g)\n",
    "plt.xlabel(r'Instreaming/outgoing air L [l/min]')\n",
    "plt.ylabel(r'Evaporated water g [kg/h]')\n",
    "plt.grid()"
   ]
  },
  {
   "cell_type": "markdown",
   "metadata": {},
   "source": [
    "<h3>TS:<br>\n",
    "    1) I believe, you cannot assume (x - x_s) to be x_s only, because if there is no air streaming into the belly, there should also be no water evaporating.<br>\n",
    "    2) Likewise, the assumption of the air being completely saturated when leaving the belly is probably not correct.<br>\n",
    "    3) The empirical formula is very approximate and may not sufficiently well work for closed systems, and non-flat surfaces: if you let air stream in the belly through a small tube, the air will spread and distribute around non-linearly inside, which will have impact the effective air velocity.<br>\n",
    "    4) There is still some information missing on the experimental design which I assumed in this case, e.g. the cross section of the tubes to let air stream in, or if, when you pump air into it, the thing expands. These approximations could be taken into account...<h3>"
   ]
  },
  {
   "cell_type": "code",
   "execution_count": null,
   "metadata": {},
   "outputs": [],
   "source": []
  }
 ],
 "metadata": {
  "kernelspec": {
   "display_name": "Python 3",
   "language": "python",
   "name": "python3"
  },
  "language_info": {
   "codemirror_mode": {
    "name": "ipython",
    "version": 3
   },
   "file_extension": ".py",
   "mimetype": "text/x-python",
   "name": "python",
   "nbconvert_exporter": "python",
   "pygments_lexer": "ipython3",
   "version": "3.7.4"
  }
 },
 "nbformat": 4,
 "nbformat_minor": 2
}
